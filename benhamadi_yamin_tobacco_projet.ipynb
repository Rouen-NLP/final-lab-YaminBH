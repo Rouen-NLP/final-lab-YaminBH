{
 "cells": [
  {
   "cell_type": "markdown",
   "metadata": {},
   "source": [
    "# Classification des documents du procès des groupes américains du tabac"
   ]
  },
  {
   "cell_type": "markdown",
   "metadata": {},
   "source": [
    "Ben Hamadi Yamin"
   ]
  },
  {
   "cell_type": "markdown",
   "metadata": {},
   "source": [
    "Nous avons une base de données de documents de différentes natures. Le but de ce notebook est d'essayer de classifier au mieux les documents en fonction de leurs catégories."
   ]
  },
  {
   "cell_type": "code",
   "execution_count": 47,
   "metadata": {},
   "outputs": [
    {
     "name": "stdout",
     "output_type": "stream",
     "text": [
      "[nltk_data] Downloading package punkt to /home/yamin/nltk_data...\n",
      "[nltk_data]   Package punkt is already up-to-date!\n",
      "[nltk_data] Downloading package stopwords to /home/yamin/nltk_data...\n",
      "[nltk_data]   Package stopwords is already up-to-date!\n"
     ]
    },
    {
     "data": {
      "text/plain": [
       "True"
      ]
     },
     "execution_count": 47,
     "metadata": {},
     "output_type": "execute_result"
    }
   ],
   "source": [
    "import pandas as pd\n",
    "import numpy as np\n",
    "import csv\n",
    "import glob\n",
    "import os\n",
    "import nltk\n",
    "from nltk.corpus import stopwords\n",
    "from nltk.tokenize import word_tokenize\n",
    "import seaborn as sns\n",
    "import matplotlib.pyplot as plt\n",
    "from sklearn.model_selection import train_test_split\n",
    "from sklearn.naive_bayes import MultinomialNB\n",
    "from sklearn.feature_extraction.text import CountVectorizer\n",
    "from sklearn.metrics import classification_report\n",
    "from sklearn.metrics import confusion_matrix\n",
    "from sklearn.ensemble import RandomForestClassifier\n",
    "from sklearn.model_selection import cross_val_score\n",
    "\n",
    "\n",
    "nltk.download('punkt')\n",
    "nltk.download('stopwords')"
   ]
  },
  {
   "cell_type": "code",
   "execution_count": 21,
   "metadata": {},
   "outputs": [],
   "source": [
    "path_csv = \"Tobacco3482.csv\""
   ]
  },
  {
   "cell_type": "markdown",
   "metadata": {},
   "source": [
    "# Etude des classes"
   ]
  },
  {
   "cell_type": "code",
   "execution_count": 22,
   "metadata": {
    "scrolled": false
   },
   "outputs": [
    {
     "data": {
      "text/html": [
       "<div>\n",
       "<style scoped>\n",
       "    .dataframe tbody tr th:only-of-type {\n",
       "        vertical-align: middle;\n",
       "    }\n",
       "\n",
       "    .dataframe tbody tr th {\n",
       "        vertical-align: top;\n",
       "    }\n",
       "\n",
       "    .dataframe thead th {\n",
       "        text-align: right;\n",
       "    }\n",
       "</style>\n",
       "<table border=\"1\" class=\"dataframe\">\n",
       "  <thead>\n",
       "    <tr style=\"text-align: right;\">\n",
       "      <th></th>\n",
       "      <th>img_path</th>\n",
       "      <th>label</th>\n",
       "    </tr>\n",
       "  </thead>\n",
       "  <tbody>\n",
       "    <tr>\n",
       "      <th>0</th>\n",
       "      <td>Advertisement/0000136188.jpg</td>\n",
       "      <td>Advertisement</td>\n",
       "    </tr>\n",
       "    <tr>\n",
       "      <th>1</th>\n",
       "      <td>Advertisement/0000435350.jpg</td>\n",
       "      <td>Advertisement</td>\n",
       "    </tr>\n",
       "    <tr>\n",
       "      <th>2</th>\n",
       "      <td>Advertisement/0000556056.jpg</td>\n",
       "      <td>Advertisement</td>\n",
       "    </tr>\n",
       "  </tbody>\n",
       "</table>\n",
       "</div>"
      ],
      "text/plain": [
       "                       img_path          label\n",
       "0  Advertisement/0000136188.jpg  Advertisement\n",
       "1  Advertisement/0000435350.jpg  Advertisement\n",
       "2  Advertisement/0000556056.jpg  Advertisement"
      ]
     },
     "execution_count": 22,
     "metadata": {},
     "output_type": "execute_result"
    }
   ],
   "source": [
    "df =pd.read_csv(path_csv)\n",
    "df.iloc[:3]"
   ]
  },
  {
   "cell_type": "code",
   "execution_count": 23,
   "metadata": {},
   "outputs": [
    {
     "data": {
      "image/png": "[encoded data removed]",
      "text/plain": [
       "<Figure size 432x288 with 1 Axes>"
      ]
     },
     "metadata": {},
     "output_type": "display_data"
    }
   ],
   "source": [
    "sns.countplot(data=df,y='label', order = df['label'].value_counts().index)\n",
    "plt.show()"
   ]
  },
  {
   "cell_type": "markdown",
   "metadata": {},
   "source": [
    "Commentaire : Il y'a 10 catégories de document avec une prédominance de fichier memo, de lettre et d'email."
   ]
  },
  {
   "cell_type": "markdown",
   "metadata": {},
   "source": [
    "# Récupération des chemins vers les fichiers txt"
   ]
  },
  {
   "cell_type": "code",
   "execution_count": 24,
   "metadata": {},
   "outputs": [
    {
     "name": "stdout",
     "output_type": "stream",
     "text": [
      "Nombre de chemins :  3482\n"
     ]
    }
   ],
   "source": [
    "def recup_chemin(df):\n",
    "    chemin_img = df[\"img_path\"]\n",
    "    chemin_txt = []\n",
    "    chemin_txt = []\n",
    "    for elem in chemin_img:\n",
    "        chemin_txt.append(elem.replace('jpg', 'txt'))\n",
    "        \n",
    "    return chemin_txt\n",
    "\n",
    "chemin_txt = recup_chemin(df)\n",
    "print(\"Nombre de chemins : \", len(chemin_txt))"
   ]
  },
  {
   "cell_type": "markdown",
   "metadata": {},
   "source": [
    "# Récupération des fichiers txt"
   ]
  },
  {
   "cell_type": "code",
   "execution_count": 25,
   "metadata": {},
   "outputs": [
    {
     "name": "stdout",
     "output_type": "stream",
     "text": [
      " Si nous avons récupérer le bon nombre de documents (3482):  3482\n"
     ]
    }
   ],
   "source": [
    "def recup_fichier_txt(chemin_txt):\n",
    "    list_fichiers = []\n",
    "    for chemin in chemin_txt:\n",
    "        with open(\"Tobacco3482-OCR/\"+chemin, 'r') as fichier:\n",
    "            list_fichiers.append(fichier.read().replace('\\n', ''))\n",
    "    print(\" Si nous avons récupérer le bon nombre de documents (3482): \", len(list_fichiers))\n",
    "    \n",
    "    return list_fichiers\n",
    "\n",
    "list_fichiers = recup_fichier_txt(chemin_txt)\n",
    "#print(\"\\nAffichage d'un fichier aléatoire : \\n\\n\", list_fichiers[int(np.random.rand(1) * len(list_fichiers))])\n",
    "\n",
    "#Conversion sous format df\n",
    "for i, content in enumerate(list_fichiers):  \n",
    "    df.loc[i, 'img_path'] = content\n",
    "    \n",
    "#Vérification de la base de données\n",
    "#df.iloc[:3]"
   ]
  },
  {
   "cell_type": "code",
   "execution_count": 26,
   "metadata": {},
   "outputs": [
    {
     "name": "stdout",
     "output_type": "stream",
     "text": [
      "Taille de X_train :  2332\n",
      "Taille de X_test :  1150\n"
     ]
    }
   ],
   "source": [
    "#Division du dataset \n",
    "def split_dataset(X,y):\n",
    "\n",
    "    X_train, X_test, y_train, y_test = train_test_split( X, y, test_size=0.33, random_state=42)\n",
    "\n",
    "    \n",
    "    return X_train, X_test, y_train, y_test\n",
    "\n",
    "X_train, X_test, y_train, y_test = split_dataset(X=df.img_path,y=df.label)\n",
    "    \n",
    "print(\"Taille de X_train : \", len(X_train))\n",
    "print(\"Taille de X_test : \", len(X_test))"
   ]
  },
  {
   "cell_type": "markdown",
   "metadata": {},
   "source": [
    "# Naif bayes classifier"
   ]
  },
  {
   "cell_type": "markdown",
   "metadata": {},
   "source": [
    "Commencons par utiliser un classifieur simple et sans prétraitement des données."
   ]
  },
  {
   "cell_type": "code",
   "execution_count": 27,
   "metadata": {},
   "outputs": [],
   "source": [
    "#Nous allons considèrer les mots par leurs fréquences\n",
    "\n",
    "vectorizer = CountVectorizer(max_features=3000)\n",
    "vectorizer.fit(X_train)\n",
    "X_train_counts = vectorizer.transform(X_train)\n",
    "X_test_counts = vectorizer.transform(X_test)"
   ]
  },
  {
   "cell_type": "code",
   "execution_count": 28,
   "metadata": {},
   "outputs": [
    {
     "name": "stdout",
     "output_type": "stream",
     "text": [
      "Naive Bayes Score durant la phase de test :  0.7147826086956521\n",
      "Naive Bayes Score durant la phase d'entrainement :  0.8267581475128645\n"
     ]
    }
   ],
   "source": [
    "# train a Naive Bayes classifier\n",
    "\n",
    "\n",
    "clf = MultinomialNB()\n",
    "clf.fit(X_train_counts, y_train)\n",
    "\n",
    "print(\"Naive Bayes Score durant la phase de test : \", clf.score(X_test_counts,y_test))\n",
    "print(\"Naive Bayes Score durant la phase d'entrainement : \", clf.score(X_train_counts,y_train))"
   ]
  },
  {
   "cell_type": "code",
   "execution_count": 29,
   "metadata": {},
   "outputs": [
    {
     "name": "stdout",
     "output_type": "stream",
     "text": [
      "               precision    recall  f1-score   support\n",
      "\n",
      "Advertisement       0.64      0.69      0.66        84\n",
      "        Email       0.91      0.93      0.92       209\n",
      "         Form       0.74      0.81      0.77       149\n",
      "       Letter       0.70      0.71      0.71       182\n",
      "         Memo       0.59      0.71      0.64       186\n",
      "         News       0.70      0.79      0.74        61\n",
      "         Note       0.59      0.24      0.34        67\n",
      "       Report       0.53      0.46      0.49        84\n",
      "       Resume       0.97      0.97      0.97        38\n",
      "   Scientific       0.75      0.53      0.62        90\n",
      "\n",
      "  avg / total       0.71      0.71      0.71      1150\n",
      "\n",
      "[[ 58   1   7   2   9   4   2   1   0   0]\n",
      " [  0 194   0   5   5   3   0   2   0   0]\n",
      " [ 13   2 120   2   5   0   5   0   0   2]\n",
      " [  1   1   2 130  30   3   0  13   0   2]\n",
      " [  1  10   4  28 132   3   0   6   0   2]\n",
      " [  4   1   2   0   2  48   2   0   0   2]\n",
      " [ 11   5  10   6  18   0  16   1   0   0]\n",
      " [  1   0   5  12  12   7   0  39   0   8]\n",
      " [  0   0   0   0   0   0   1   0  37   0]\n",
      " [  2   0  13   1  11   1   1  12   1  48]]\n"
     ]
    }
   ],
   "source": [
    "y_pred_test = clf.predict(X_test_counts)\n",
    "print(classification_report(y_test, y_pred_test))\n",
    "print(confusion_matrix(y_test, y_pred_test))"
   ]
  },
  {
   "cell_type": "markdown",
   "metadata": {},
   "source": [
    "# Prétraitement des données (Stop words)"
   ]
  },
  {
   "cell_type": "code",
   "execution_count": 30,
   "metadata": {},
   "outputs": [],
   "source": [
    "def without_stop_words(list_fichiers):\n",
    "\n",
    "    dfs = pd.read_csv(path_csv)\n",
    "    stop_words = set(stopwords.words('english'))\n",
    "    list_preprocess = []\n",
    "    for fichier in list_fichiers:\n",
    "        preprocess = []\n",
    "        words = word_tokenize(fichier)\n",
    "        for mot in words:\n",
    "            if mot not in stop_words:\n",
    "\n",
    "                preprocess.append(mot)\n",
    "        str_preprocess = ' '.join(preprocess)# Pour retourner sur une phrase et non une liste\n",
    "        list_preprocess.append(str_preprocess)\n",
    "    for i, content in enumerate(list_preprocess):  \n",
    "        dfs.loc[i, 'img_path'] = content\n",
    "\n",
    "        \n",
    "    return dfs"
   ]
  },
  {
   "cell_type": "markdown",
   "metadata": {},
   "source": [
    "Les stop words peuvent poser problème lorsque que l'on veut classifier les documents à partir de la fréquence d'appartions des mots. Car ce sont les mots les plus communs et ils peuvent empecher d'autres mots plus discriminateur d'avoir un poids suffisant dans la classification."
   ]
  },
  {
   "cell_type": "code",
   "execution_count": 31,
   "metadata": {},
   "outputs": [],
   "source": [
    "dfs = without_stop_words(list_fichiers)\n",
    "X_train, X_test, y_train, y_test = split_dataset(X=dfs.img_path,y=dfs.label)\n",
    "vectorizer = CountVectorizer(max_features=3000)\n",
    "vectorizer.fit(X_train)\n",
    "X_train_countsSW = vectorizer.transform(X_train)\n",
    "X_test_countsSW = vectorizer.transform(X_test)"
   ]
  },
  {
   "cell_type": "code",
   "execution_count": 32,
   "metadata": {},
   "outputs": [
    {
     "name": "stdout",
     "output_type": "stream",
     "text": [
      "Naive Bayes SW Score durant la phase de test :  0.7095652173913043\n",
      "Naive Bayes SW Score durant la phase d'entrainement :  0.8331903945111492\n"
     ]
    }
   ],
   "source": [
    "# train a Naive Bayes classifier\n",
    "from sklearn.naive_bayes import MultinomialNB\n",
    "\n",
    "clf = MultinomialNB()\n",
    "clf.fit(X_train_countsSW, y_train)\n",
    "\n",
    "print(\"Naive Bayes SW Score durant la phase de test : \", clf.score(X_test_countsSW,y_test))\n",
    "print(\"Naive Bayes SW Score durant la phase d'entrainement : \", clf.score(X_train_countsSW,y_train))"
   ]
  },
  {
   "cell_type": "code",
   "execution_count": 34,
   "metadata": {},
   "outputs": [
    {
     "name": "stdout",
     "output_type": "stream",
     "text": [
      "               precision    recall  f1-score   support\n",
      "\n",
      "Advertisement       0.62      0.71      0.67        84\n",
      "        Email       0.92      0.94      0.93       209\n",
      "         Form       0.72      0.79      0.75       149\n",
      "       Letter       0.67      0.68      0.67       182\n",
      "         Memo       0.60      0.74      0.66       186\n",
      "         News       0.66      0.79      0.72        61\n",
      "         Note       0.48      0.16      0.24        67\n",
      "       Report       0.54      0.44      0.49        84\n",
      "       Resume       1.00      0.97      0.99        38\n",
      "   Scientific       0.76      0.53      0.63        90\n",
      "\n",
      "  avg / total       0.71      0.71      0.70      1150\n",
      "\n",
      "[[ 60   0   6   1   8   5   3   1   0   0]\n",
      " [  0 196   1   5   3   2   0   2   0   0]\n",
      " [ 14   2 118   2   8   1   3   0   0   1]\n",
      " [  0   1   5 123  30   6   1  14   0   2]\n",
      " [  1   8   4  26 138   2   2   4   0   1]\n",
      " [  5   1   1   0   2  48   2   0   0   2]\n",
      " [ 11   4  12   7  20   0  11   0   0   2]\n",
      " [  2   0   4  17  11   6   0  37   0   7]\n",
      " [  0   0   0   0   0   0   1   0  37   0]\n",
      " [  3   0  13   2  11   3   0  10   0  48]]\n"
     ]
    }
   ],
   "source": [
    "y_pred_test = clf.predict(X_test_countsSW)\n",
    "print(classification_report(y_test, y_pred_test))\n",
    "print(confusion_matrix(y_test, y_pred_test))"
   ]
  },
  {
   "cell_type": "markdown",
   "metadata": {},
   "source": [
    "Les stop words ne semblent pas avoir d'impact négatif sur la phase de test."
   ]
  },
  {
   "cell_type": "markdown",
   "metadata": {},
   "source": [
    "# TF-IDF REPRESENTATION"
   ]
  },
  {
   "cell_type": "markdown",
   "metadata": {},
   "source": [
    "Une autre méthode pour éviter les stop words est d'utiliser une réprésentation TF-IDF. Cette représentation va permettre de décrire un mot par son contexte au sein du document."
   ]
  },
  {
   "cell_type": "code",
   "execution_count": 35,
   "metadata": {},
   "outputs": [],
   "source": [
    "from sklearn.feature_extraction.text import TfidfTransformer\n",
    "\n",
    "\n",
    "tf_transformer = TfidfTransformer().fit(X_train_counts)\n",
    "X_train_Tfid = tf_transformer.transform(X_train_counts)\n",
    "X_test_Tfid = tf_transformer.transform(X_test_counts)"
   ]
  },
  {
   "cell_type": "code",
   "execution_count": 36,
   "metadata": {},
   "outputs": [
    {
     "name": "stdout",
     "output_type": "stream",
     "text": [
      "TF-IDF Score durant la phase de test :  0.577391304347826\n",
      "TF-IDF Score durant la phase d'entrainement :  0.6582332761578045\n"
     ]
    }
   ],
   "source": [
    "clf = MultinomialNB()\n",
    "clf.fit(X_train_Tfid, y_train)\n",
    "\n",
    "y_pred_test = clf.predict(X_test_Tfid)\n",
    "\n",
    "print(\"TF-IDF Score durant la phase de test : \", clf.score(X_test_counts,y_test))\n",
    "print(\"TF-IDF Score durant la phase d'entrainement : \", clf.score(X_train_counts,y_train))"
   ]
  },
  {
   "cell_type": "markdown",
   "metadata": {},
   "source": [
    "Voyons à présent quelle catégorie pose le plus de problème à classifier."
   ]
  },
  {
   "cell_type": "code",
   "execution_count": 37,
   "metadata": {},
   "outputs": [
    {
     "name": "stdout",
     "output_type": "stream",
     "text": [
      "               precision    recall  f1-score   support\n",
      "\n",
      "Advertisement       0.96      0.32      0.48        84\n",
      "        Email       0.89      0.92      0.90       209\n",
      "         Form       0.64      0.75      0.69       149\n",
      "       Letter       0.49      0.73      0.58       182\n",
      "         Memo       0.42      0.83      0.56       186\n",
      "         News       1.00      0.25      0.39        61\n",
      "         Note       0.00      0.00      0.00        67\n",
      "       Report       1.00      0.01      0.02        84\n",
      "       Resume       1.00      0.95      0.97        38\n",
      "   Scientific       0.85      0.31      0.46        90\n",
      "\n",
      "  avg / total       0.68      0.61      0.56      1150\n",
      "\n",
      "[[ 27   4  19  13  21   0   0   0   0   0]\n",
      " [  0 193   0   7   9   0   0   0   0   0]\n",
      " [  0   2 112   5  29   0   0   0   0   1]\n",
      " [  0   1   0 132  49   0   0   0   0   0]\n",
      " [  0   7   1  23 155   0   0   0   0   0]\n",
      " [  0   1   6  30   9  15   0   0   0   0]\n",
      " [  1   9  21   9  27   0   0   0   0   0]\n",
      " [  0   0   3  36  40   0   0   1   0   4]\n",
      " [  0   0   1   1   0   0   0   0  36   0]\n",
      " [  0   1  12  16  33   0   0   0   0  28]]\n"
     ]
    },
    {
     "name": "stderr",
     "output_type": "stream",
     "text": [
      "/home/yamin/anaconda3/envs/tensorflow/lib/python3.5/site-packages/sklearn/metrics/classification.py:1135: UndefinedMetricWarning: Precision and F-score are ill-defined and being set to 0.0 in labels with no predicted samples.\n",
      "  'precision', 'predicted', average, warn_for)\n"
     ]
    }
   ],
   "source": [
    "from sklearn.metrics import classification_report\n",
    "from sklearn.metrics import confusion_matrix\n",
    "\n",
    "print(classification_report(y_test, y_pred_test))\n",
    "print(confusion_matrix(y_test, y_pred_test))"
   ]
  },
  {
   "cell_type": "markdown",
   "metadata": {},
   "source": [
    "Avec une représentation TF-IDF le classifieurs naives bayes à du mal à apposer le label sur les fichiers \"Note\" et \"Report\".\n",
    "Ces fichiers peuvent être très différents de par leurs formes et leurs mots. Ce qui rend difficile sa classification en fonction d'un contexte."
   ]
  },
  {
   "cell_type": "markdown",
   "metadata": {},
   "source": [
    "# Random Forest"
   ]
  },
  {
   "cell_type": "markdown",
   "metadata": {},
   "source": [
    "Les forêts aléatoires ont beaucoup d'hyperparamètres. Testons dans un premier temps avec les paramètres par défaut."
   ]
  },
  {
   "cell_type": "code",
   "execution_count": 43,
   "metadata": {},
   "outputs": [],
   "source": [
    "dfs = without_stop_words(list_fichiers)\n",
    "X_train, X_test, y_train, y_test = split_dataset(X=dfs.img_path,y=dfs.label)"
   ]
  },
  {
   "cell_type": "code",
   "execution_count": 45,
   "metadata": {},
   "outputs": [],
   "source": [
    "#Nous allons considèrer les mots par leurs fréquences\n",
    "\n",
    "vectorizer = CountVectorizer(max_features=3000)\n",
    "vectorizer.fit(X_train)\n",
    "X_train_counts = vectorizer.transform(X_train)\n",
    "X_test_counts = vectorizer.transform(X_test)"
   ]
  },
  {
   "cell_type": "markdown",
   "metadata": {},
   "source": [
    "### Avec cross Validation"
   ]
  },
  {
   "cell_type": "code",
   "execution_count": 50,
   "metadata": {},
   "outputs": [
    {
     "name": "stdout",
     "output_type": "stream",
     "text": [
      "Random Forest Score durant la phase de test : 0.68 (+/- 0.06)\n",
      "Random Forest Score durant la phase d'entrainement : 0.72 (+/- 0.05)\n"
     ]
    }
   ],
   "source": [
    "clf_rf = RandomForestClassifier(n_estimators=100)\n",
    "score_test = cross_val_score(clf_rf,X_test_counts,y_test,cv=5)\n",
    "score_train = cross_val_score(clf_rf,X_train_counts,y_train,cv=5)\n",
    "print(\"Random Forest Score durant la phase de test : %0.2f (+/- %0.2f)\" % (score_test.mean(), score_test.std() * 2))\n",
    "print(\"Random Forest Score durant la phase d'entrainement : %0.2f (+/- %0.2f)\" % (score_train.mean(), score_train.std() * 2))"
   ]
  },
  {
   "cell_type": "markdown",
   "metadata": {},
   "source": [
    "# Recherche du nombre d'arbre"
   ]
  },
  {
   "cell_type": "code",
   "execution_count": 51,
   "metadata": {},
   "outputs": [],
   "source": [
    "list_scores=[]\n",
    "absc=[]\n",
    "std_list=[]\n",
    "for i in range (1,1000,200):\n",
    "    clf_rf = RandomForestClassifier(n_estimators=i)\n",
    "    score = cross_val_score(clf_rf, X_train_counts, y_train, cv=5)\n",
    "    list_scores.append(np.mean(score))\n",
    "    std_list.append(np.std(score))\n",
    "    absc.append(i)\n"
   ]
  },
  {
   "cell_type": "code",
   "execution_count": 52,
   "metadata": {},
   "outputs": [
    {
     "data": {
      "image/png": "[encoded data removed]",
      "text/plain": [
       "<Figure size 432x288 with 1 Axes>"
      ]
     },
     "metadata": {},
     "output_type": "display_data"
    }
   ],
   "source": [
    "\n",
    "plt.errorbar(absc,list_scores,std_list)\n",
    "plt.show()"
   ]
  },
  {
   "cell_type": "code",
   "execution_count": null,
   "metadata": {},
   "outputs": [],
   "source": [
    "# Source : https://scikit-learn.org/stable/auto_examples/model_selection/plot_randomized_search.html\n",
    "from time import time\n",
    "from scipy.stats import randint as sp_randint\n",
    "\n",
    "from sklearn.model_selection import GridSearchCV\n",
    "from sklearn.model_selection import RandomizedSearchCV\n",
    "from sklearn.datasets import load_digits\n",
    "from sklearn.ensemble import RandomForestClassifier\n",
    "\n",
    "# get some data\n",
    "X = X_train_counts\n",
    "y = y_train\n",
    "# build a classifier\n",
    "clf = RandomForestClassifier(n_estimators=570)\n",
    "\n",
    "\n",
    "# Utility function to report best scores\n",
    "def report(results, n_top=3):\n",
    "    for i in range(1, n_top + 1):\n",
    "        candidates = np.flatnonzero(results['rank_test_score'] == i)\n",
    "        for candidate in candidates:\n",
    "            print(\"Model with rank: {0}\".format(i))\n",
    "            print(\"Mean validation score: {0:.3f} (std: {1:.3f})\".format(\n",
    "                  results['mean_test_score'][candidate],\n",
    "                  results['std_test_score'][candidate]))\n",
    "            print(\"Parameters: {0}\".format(results['params'][candidate]))\n",
    "            print(\"\")\n",
    "\n",
    "\n",
    "# specify parameters and distributions to sample from\n",
    "param_dist = {\"max_depth\": [3, None],\n",
    "              \"max_features\": sp_randint(1, 11),\n",
    "              \"min_samples_split\": sp_randint(2, 11),\n",
    "              \"bootstrap\": [True, False],\n",
    "              \"criterion\": [\"gini\", \"entropy\"]}\n",
    "\n",
    "# run randomized search\n",
    "n_iter_search = 20\n",
    "random_search = RandomizedSearchCV(clf, param_distributions=param_dist,\n",
    "                                   n_iter=n_iter_search, cv=5)\n",
    "\n",
    "start = time()\n",
    "random_search.fit(X, y)\n",
    "print(\"RandomizedSearchCV took %.2f seconds for %d candidates\"\n",
    "      \" parameter settings.\" % ((time() - start), n_iter_search))\n",
    "report(random_search.cv_results_)"
   ]
  },
  {
   "cell_type": "code",
   "execution_count": 56,
   "metadata": {},
   "outputs": [
    {
     "name": "stdout",
     "output_type": "stream",
     "text": [
      "               precision    recall  f1-score   support\n",
      "\n",
      "Advertisement       0.78      0.50      0.61        84\n",
      "        Email       0.88      0.96      0.92       209\n",
      "         Form       0.70      0.76      0.73       149\n",
      "       Letter       0.65      0.77      0.71       182\n",
      "         Memo       0.70      0.83      0.76       186\n",
      "         News       0.98      0.72      0.83        61\n",
      "         Note       0.42      0.70      0.53        67\n",
      "       Report       0.71      0.26      0.38        84\n",
      "       Resume       1.00      0.97      0.99        38\n",
      "   Scientific       0.88      0.47      0.61        90\n",
      "\n",
      "  avg / total       0.75      0.73      0.72      1150\n",
      "\n",
      "[[ 42   1   5   6   0   0  29   1   0   0]\n",
      " [  0 200   1   3   2   0   3   0   0   0]\n",
      " [  1   7 113   3   7   0  18   0   0   0]\n",
      " [  3   3   1 141  29   0   3   2   0   0]\n",
      " [  0   9   4  14 154   0   4   1   0   0]\n",
      " [  1   1   6   4   2  44   2   1   0   0]\n",
      " [  5   3   4   2   6   0  47   0   0   0]\n",
      " [  0   1  10  32  11   1   1  22   0   6]\n",
      " [  0   0   1   0   0   0   0   0  37   0]\n",
      " [  2   2  17  11   8   0   4   4   0  42]]\n"
     ]
    }
   ],
   "source": [
    "clf_rf = RandomForestClassifier(n_estimators=800)\n",
    "clf_rf.fit(X_train_counts, y_train)\n",
    "\n",
    "y_pred_test = clf_rf.predict(X_test_counts)\n",
    "print(classification_report(y_test, y_pred_test))\n",
    "print(confusion_matrix(y_test, y_pred_test))"
   ]
  },
  {
   "cell_type": "code",
   "execution_count": null,
   "metadata": {},
   "outputs": [],
   "source": []
  }
 ],
 "metadata": {
  "kernelspec": {
   "display_name": "Python 3",
   "language": "python",
   "name": "python3"
  },
  "language_info": {
   "codemirror_mode": {
    "name": "ipython",
    "version": 3
   },
   "file_extension": ".py",
   "mimetype": "text/x-python",
   "name": "python",
   "nbconvert_exporter": "python",
   "pygments_lexer": "ipython3",
   "version": "3.5.5"
  }
 },
 "nbformat": 4,
 "nbformat_minor": 2
}
